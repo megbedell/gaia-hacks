{
 "cells": [
  {
   "cell_type": "markdown",
   "metadata": {},
   "source": [
    "## Co-moving stars in Kepler"
   ]
  },
  {
   "cell_type": "markdown",
   "metadata": {},
   "source": [
    "(done in a very hacky way) (but this is probably ok because we're assuming all the stars are far away)"
   ]
  },
  {
   "cell_type": "code",
   "execution_count": 1,
   "metadata": {},
   "outputs": [],
   "source": [
    "import numpy as np\n",
    "from astropy.table import Table\n",
    "from astropy import units as u\n",
    "import matplotlib.pyplot as plt\n",
    "from tqdm import tqdm"
   ]
  },
  {
   "cell_type": "markdown",
   "metadata": {},
   "source": [
    "Load up the table, which was made with Gaia Archive xmatch:"
   ]
  },
  {
   "cell_type": "code",
   "execution_count": 3,
   "metadata": {},
   "outputs": [],
   "source": [
    "kepler_table_file = '../data/kepler-result.fits'\n",
    "table = Table.read(kepler_table_file, format='fits')"
   ]
  },
  {
   "cell_type": "code",
   "execution_count": 4,
   "metadata": {},
   "outputs": [
    {
     "data": {
      "text/plain": [
       "<Table masked=True length=886499>\n",
       "              name                dtype        unit       n_bad \n",
       "-------------------------------- ------- ---------------- ------\n",
       "                     solution_id   int64                       0\n",
       "                     designation bytes28                       0\n",
       "                       source_id   int64                       0\n",
       "                    random_index   int64                       0\n",
       "                       ref_epoch float64               yr      0\n",
       "                              ra float64              deg      0\n",
       "                        ra_error float64              mas      0\n",
       "                             dec float64              deg      0\n",
       "                       dec_error float64              mas      0\n",
       "                        parallax float64              mas      0\n",
       "                  parallax_error float64              mas      0\n",
       "             parallax_over_error float32                       0\n",
       "                            pmra float64         mas / yr      0\n",
       "                      pmra_error float64         mas / yr      0\n",
       "                           pmdec float64         mas / yr      0\n",
       "                     pmdec_error float64         mas / yr      0\n",
       "                     ra_dec_corr float32                       0\n",
       "                ra_parallax_corr float32                       0\n",
       "                    ra_pmra_corr float32                       0\n",
       "                   ra_pmdec_corr float32                       0\n",
       "               dec_parallax_corr float32                       0\n",
       "                   dec_pmra_corr float32                       0\n",
       "                  dec_pmdec_corr float32                       0\n",
       "              parallax_pmra_corr float32                       0\n",
       "             parallax_pmdec_corr float32                       0\n",
       "                 pmra_pmdec_corr float32                       0\n",
       "            astrometric_n_obs_al   int32                       0\n",
       "            astrometric_n_obs_ac   int32                       0\n",
       "       astrometric_n_good_obs_al   int32                       0\n",
       "        astrometric_n_bad_obs_al   int32                       0\n",
       "              astrometric_gof_al float32                       0\n",
       "             astrometric_chi2_al float32                       0\n",
       "        astrometric_excess_noise float64              mas      0\n",
       "    astrometric_excess_noise_sig float64                       0\n",
       "       astrometric_params_solved   int16                       0\n",
       "        astrometric_primary_flag    bool                       0\n",
       "           astrometric_weight_al float32         1 / mas2      0\n",
       "       astrometric_pseudo_colour float64           1 / um      0\n",
       " astrometric_pseudo_colour_error float64           1 / um      0\n",
       "            mean_varpi_factor_al float32                       0\n",
       "astrometric_matched_observations   int16                       0\n",
       "         visibility_periods_used   int16                       0\n",
       "         astrometric_sigma5d_max float32              mas      0\n",
       "       frame_rotator_object_type   int32                       0\n",
       "            matched_observations   int16                       0\n",
       "               duplicated_source    bool                       0\n",
       "                    phot_g_n_obs   int32                       0\n",
       "                phot_g_mean_flux float64 'electron'.s**-1      0\n",
       "          phot_g_mean_flux_error float64 'electron'.s**-1      0\n",
       "     phot_g_mean_flux_over_error float32                       0\n",
       "                 phot_g_mean_mag float32              mag      0\n",
       "                   phot_bp_n_obs   int32                       0\n",
       "               phot_bp_mean_flux float64 'electron'.s**-1      0\n",
       "         phot_bp_mean_flux_error float64 'electron'.s**-1      0\n",
       "    phot_bp_mean_flux_over_error float32                       0\n",
       "                phot_bp_mean_mag float32              mag      0\n",
       "                   phot_rp_n_obs   int32                       0\n",
       "               phot_rp_mean_flux float64 'electron'.s**-1      0\n",
       "         phot_rp_mean_flux_error float64 'electron'.s**-1      0\n",
       "    phot_rp_mean_flux_over_error float32                       0\n",
       "                phot_rp_mean_mag float32              mag      0\n",
       "        phot_bp_rp_excess_factor float32                       0\n",
       "                  phot_proc_mode   int16                       0\n",
       "                           bp_rp float32              mag      0\n",
       "                            bp_g float32              mag      0\n",
       "                            g_rp float32              mag      0\n",
       "                 radial_velocity float64           km / s      0\n",
       "           radial_velocity_error float64           km / s      0\n",
       "                  rv_nb_transits   int32                       0\n",
       "                rv_template_teff float32                K      0\n",
       "                rv_template_logg float32    log(cm.s**-2)      0\n",
       "                rv_template_fe_h float32              dex      0\n",
       "              phot_variable_flag bytes13                       0\n",
       "                               l float64              deg      0\n",
       "                               b float64              deg      0\n",
       "                         ecl_lon float64              deg      0\n",
       "                         ecl_lat float64              deg      0\n",
       "                     priam_flags   int64                  603470\n",
       "                        teff_val float32                K      0\n",
       "           teff_percentile_lower float32                K      0\n",
       "           teff_percentile_upper float32                K      0\n",
       "                         a_g_val float32              mag      0\n",
       "            a_g_percentile_lower float32              mag      0\n",
       "            a_g_percentile_upper float32              mag      0\n",
       "                 e_bp_min_rp_val float32              mag      0\n",
       "    e_bp_min_rp_percentile_lower float32              mag      0\n",
       "    e_bp_min_rp_percentile_upper float32              mag      0\n",
       "                     flame_flags   int64                  652334\n",
       "                      radius_val float32           solRad      0\n",
       "         radius_percentile_lower float32           solRad      0\n",
       "         radius_percentile_upper float32           solRad      0\n",
       "                         lum_val float32           solLum      0\n",
       "            lum_percentile_lower float32           solLum      0\n",
       "            lum_percentile_upper float32           solLum      0\n",
       "                    datalink_url bytes77                       0\n",
       "            epoch_photometry_url bytes99                       0\n",
       "                      kepler_oid   int32                       0\n",
       "                           kepid   int32                       0\n",
       "                          ra_kic float64                       0\n",
       "                         dec_kic float64                       0\n",
       "                            dist float64                       0"
      ]
     },
     "execution_count": 4,
     "metadata": {},
     "output_type": "execute_result"
    }
   ],
   "source": [
    "table.info"
   ]
  },
  {
   "cell_type": "code",
   "execution_count": 36,
   "metadata": {},
   "outputs": [],
   "source": [
    "def ppm_check(star1, star2, sigma=5.):\n",
    "    \"\"\"\n",
    "    Returns True if the differences between parallax, pmra, and pmdec are all below \n",
    "    the sigma threshold.\n",
    "    \"\"\"\n",
    "    names = ['parallax', 'pmra', 'pmdec']\n",
    "    for name in names:\n",
    "        err = np.sqrt(star1[name+'_error']**2 + star2[name+'_error']**2)\n",
    "        if np.isnan(star1[name]) or np.isnan(star2[name]) or np.isnan(err):\n",
    "            return False\n",
    "        if (np.abs(star1[name] - star2[name])/err) >= sigma:\n",
    "            return False\n",
    "    return True"
   ]
  },
  {
   "cell_type": "code",
   "execution_count": 49,
   "metadata": {},
   "outputs": [],
   "source": [
    "def make_x(star):\n",
    "    \"\"\"\n",
    "    returns a vector of x = [parallax, pmra, pmdec]\n",
    "    \"\"\"\n",
    "    names = ['parallax', 'pmra', 'pmdec']\n",
    "    x = np.zeros(len(names))\n",
    "    for i, name in enumerate(names):\n",
    "        x[i] = star[name]\n",
    "    return x\n",
    "\n",
    "def make_cov(star):\n",
    "    \"\"\"\n",
    "    returns covariance matrix C corresponding to x\n",
    "    \"\"\"\n",
    "    names = ['parallax', 'pmra', 'pmdec']\n",
    "    C = np.zeros((len(names), len(names)))\n",
    "    for i, name1 in enumerate(names):\n",
    "        err = star[name1+'_error']\n",
    "        C[i, i] = err ** 2\n",
    "        for j, name2 in enumerate(names):\n",
    "            if j <= i:\n",
    "                continue\n",
    "            corr = star[\"{0}_{1}_corr\".format(name1, name2)]\n",
    "            C[i, j] = corr * np.sqrt(C[i, i] * C[j, j])\n",
    "            C[j, i] = C[i, j]\n",
    "    return C\n",
    "\n",
    "def chisq(star1, star2):\n",
    "    \"\"\"\n",
    "    calculates chisquared for two stars based on their parallax and 2D proper motions\n",
    "    \"\"\"\n",
    "    deltax = make_x(star1) - make_x(star2)\n",
    "    cplusc = make_cov(star1) + make_cov(star2)\n",
    "    return np.dot(deltax, np.linalg.solve(cplusc, deltax))"
   ]
  },
  {
   "cell_type": "code",
   "execution_count": 38,
   "metadata": {},
   "outputs": [
    {
     "name": "stderr",
     "output_type": "stream",
     "text": [
      "100%|██████████| 100/100 [00:24<00:00,  4.08it/s]\n"
     ]
    }
   ],
   "source": [
    "all_names = np.unique(table['kepid'].data.data)\n",
    "tested_pair_ids = []\n",
    "chisqs = []\n",
    "for k in tqdm(all_names[:100]):\n",
    "    matches = table['kepid'] == k\n",
    "    primary_match = table[matches][0]\n",
    "    other_matches = table[matches][1:]\n",
    "    for m in other_matches:\n",
    "        if ppm_check(primary_match, m):\n",
    "            tested_pair_ids.append((primary_match['source_id'], m['source_id']))\n",
    "            chisqs.append(chisq(primary_match, m))\n",
    "            \n",
    "tested_pair_ids = np.asarray(tested_pair_ids)\n",
    "chisqs = np.asarray(chisqs)"
   ]
  },
  {
   "cell_type": "code",
   "execution_count": 48,
   "metadata": {},
   "outputs": [
    {
     "data": {
      "text/plain": [
       "(array([73., 68., 32., 22., 11.,  7.,  2.,  2.,  2.,  1.]),\n",
       " array([ 0.16667109,  5.31813244, 10.46959378, 15.62105513, 20.77251648,\n",
       "        25.92397782, 31.07543917, 36.22690052, 41.37836187, 46.52982321,\n",
       "        51.68128456]),\n",
       " <a list of 10 Patch objects>)"
      ]
     },
     "execution_count": 48,
     "metadata": {},
     "output_type": "execute_result"
    },
    {
     "data": {
      "image/png": "[encoded data removed]",
      "text/plain": [
       "<Figure size 432x288 with 1 Axes>"
      ]
     },
     "metadata": {},
     "output_type": "display_data"
    }
   ],
   "source": [
    "plt.hist(chisqs)"
   ]
  },
  {
   "cell_type": "code",
   "execution_count": 47,
   "metadata": {},
   "outputs": [
    {
     "data": {
      "text/plain": [
       "199891"
      ]
     },
     "execution_count": 47,
     "metadata": {},
     "output_type": "execute_result"
    }
   ],
   "source": [
    "len(all_names)"
   ]
  },
  {
   "cell_type": "code",
   "execution_count": null,
   "metadata": {},
   "outputs": [],
   "source": []
  }
 ],
 "metadata": {
  "kernelspec": {
   "display_name": "Python 3",
   "language": "python",
   "name": "python3"
  },
  "language_info": {
   "codemirror_mode": {
    "name": "ipython",
    "version": 3
   },
   "file_extension": ".py",
   "mimetype": "text/x-python",
   "name": "python",
   "nbconvert_exporter": "python",
   "pygments_lexer": "ipython3",
   "version": "3.6.0"
  }
 },
 "nbformat": 4,
 "nbformat_minor": 2
}
